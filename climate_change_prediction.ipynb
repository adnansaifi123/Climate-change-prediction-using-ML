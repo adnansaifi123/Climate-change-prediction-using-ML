{
 "cells": [
  {
   "cell_type": "markdown",
   "metadata": {},
   "source": [
    "# Getting the Dataset\n",
    "\n",
    "The data is provided by the Berkeley Earth, which is affiliated with Lawrence Berkeley National Laboratory. The Berkeley Earth Surface Temperature Study combines 1.6 billion temperature reports from 16 pre-existing archives. It is nicely packaged and allows for slicing into interesting subsets (for example by country). They publish the source data and the code for the transformations they applied. They also use methods that allow weather observations from shorter time series to be included, meaning fewer observations need to be thrown away.\n",
    "It include several files:\n",
    "\n",
    "Global Land and Ocean-and-Land Temperatures (GlobalTemperatures.csv):\n",
    "•\tDate: starts in 1750 for average land temperature and 1850 for max and min land temperatures and global ocean and land temperatures\n",
    "\n",
    "•\t**LandAverageTemperature:** global average land temperature in celsius\n",
    "\n",
    "•\t**LandAverageTemperatureUncertainty:** the 95% confidence interval around the average\n",
    "\n",
    "•\t**LandMaxTemperature:** global average maximum land temperature in celsius\n",
    "\n",
    "•\t**LandMaxTemperatureUncertainty:** the 95% confidence interval around the maximum land temperature\n",
    "\n",
    "•\t**LandMinTemperature:** global average minimum land temperature in celsius\n",
    "\n",
    "•\t**LandMinTemperatureUncertainty:** the 95% confidence interval around the minimum land temperature\n",
    "\n",
    "•\t**LandAndOceanAverageTemperature:** global average land and ocean temperature in celsius\n",
    "\n",
    "•\t**LandAndOceanAverageTemperatureUncertainty:** the 95% confidence interval around the global average land and ocean temperature\n",
    "\n",
    "Other files include:\n",
    "•\tGlobal Average Land Temperature by Country (GlobalLandTemperaturesByCountry.csv)\n",
    "\n",
    "•\tGlobal Average Land Temperature by State (GlobalLandTemperaturesByState.csv)\n",
    "\n",
    "•\tGlobal Land Temperatures By Major City (GlobalLandTemperaturesByMajorCity.csv)\n",
    "\n",
    "•\tGlobal Land Temperatures By City (GlobalLandTemperaturesByCity.csv)\n",
    "\n",
    "**Dataset url = 'https://www.kaggle.com/datasets/berkeleyearth/climate-change-earth-surface-temperature-data'**\n",
    "\n",
    "There are several options for getting the dataset into Jupyter:\n",
    "\n",
    "Download the CSV manually and upload it via Jupyter's GUI Use the urlretrieve function from the urllib.request to download CSV files from a raw URL directly Use a helper library e.g. opendatasets, which contains a collection of curated datasets and provides a function for directly download. We'll use the opendatasets helper library to download the files."
   ]
  },
  {
   "cell_type": "code",
   "execution_count": 1,
   "metadata": {},
   "outputs": [],
   "source": [
    "!pip install jovian opendatasets --upgrade --quiet"
   ]
  },
  {
   "cell_type": "code",
   "execution_count": 2,
   "metadata": {},
   "outputs": [
    {
     "name": "stdout",
     "output_type": "stream",
     "text": [
      "Collecting chart-studio\n",
      "  Downloading chart_studio-1.1.0-py3-none-any.whl (64 kB)\n",
      "\u001b[K     |████████████████████████████████| 64 kB 3.0 MB/s eta 0:00:011\n",
      "\u001b[?25hRequirement already satisfied: six in /opt/conda/lib/python3.9/site-packages (from chart-studio) (1.16.0)\n",
      "Collecting retrying>=1.3.3\n",
      "  Downloading retrying-1.3.3.tar.gz (10 kB)\n",
      "Requirement already satisfied: requests in /opt/conda/lib/python3.9/site-packages (from chart-studio) (2.26.0)\n",
      "Collecting plotly\n",
      "  Downloading plotly-5.9.0-py2.py3-none-any.whl (15.2 MB)\n",
      "\u001b[K     |████████████████████████████████| 15.2 MB 12.1 MB/s eta 0:00:01\n",
      "\u001b[?25hCollecting tenacity>=6.2.0\n",
      "  Downloading tenacity-8.0.1-py3-none-any.whl (24 kB)\n",
      "Requirement already satisfied: charset-normalizer~=2.0.0 in /opt/conda/lib/python3.9/site-packages (from requests->chart-studio) (2.0.0)\n",
      "Requirement already satisfied: urllib3<1.27,>=1.21.1 in /opt/conda/lib/python3.9/site-packages (from requests->chart-studio) (1.26.7)\n",
      "Requirement already satisfied: certifi>=2017.4.17 in /opt/conda/lib/python3.9/site-packages (from requests->chart-studio) (2021.5.30)\n",
      "Requirement already satisfied: idna<4,>=2.5 in /opt/conda/lib/python3.9/site-packages (from requests->chart-studio) (3.1)\n",
      "Building wheels for collected packages: retrying\n",
      "  Building wheel for retrying (setup.py) ... \u001b[?25ldone\n",
      "\u001b[?25h  Created wheel for retrying: filename=retrying-1.3.3-py3-none-any.whl size=11448 sha256=9e1782d44228993a183bc35767e7f945e60ff0ef5f746d7a43862cebe0f2df3a\n",
      "  Stored in directory: /home/jovyan/.cache/pip/wheels/ce/18/7f/e9527e3e66db1456194ac7f61eb3211068c409edceecff2d31\n",
      "Successfully built retrying\n",
      "Installing collected packages: tenacity, retrying, plotly, chart-studio\n",
      "Successfully installed chart-studio-1.1.0 plotly-5.9.0 retrying-1.3.3 tenacity-8.0.1\n",
      "Note: you may need to restart the kernel to use updated packages.\n"
     ]
    }
   ],
   "source": [
    "pip install chart-studio"
   ]
  },
  {
   "cell_type": "code",
   "execution_count": 3,
   "metadata": {},
   "outputs": [],
   "source": [
    "dataset_url = 'https://www.kaggle.com/datasets/berkeleyearth/climate-change-earth-surface-temperature-data'"
   ]
  },
  {
   "cell_type": "code",
   "execution_count": 4,
   "metadata": {},
   "outputs": [
    {
     "name": "stdout",
     "output_type": "stream",
     "text": [
      "Please provide your Kaggle credentials to download this dataset. Learn more: http://bit.ly/kaggle-creds\n",
      "Your Kaggle username: mohdadnan123\n",
      "Your Kaggle Key: ········\n",
      "Downloading climate-change-earth-surface-temperature-data.zip to ./climate-change-earth-surface-temperature-data\n"
     ]
    },
    {
     "name": "stderr",
     "output_type": "stream",
     "text": [
      "100%|██████████| 84.7M/84.7M [00:01<00:00, 56.6MB/s]\n"
     ]
    },
    {
     "name": "stdout",
     "output_type": "stream",
     "text": [
      "\n"
     ]
    }
   ],
   "source": [
    "import opendatasets as od\n",
    "od.download(dataset_url)"
   ]
  },
  {
   "cell_type": "markdown",
   "metadata": {},
   "source": [
    "# Importing Libraries"
   ]
  },
  {
   "cell_type": "code",
   "execution_count": 5,
   "metadata": {
    "_cell_guid": "b1076dfc-b9ad-4769-8c92-a6c4dae69d19",
    "_uuid": "8f2839f25d086af736a60e9eeb907d3b93b6e0e5"
   },
   "outputs": [
    {
     "data": {
      "text/html": [
       "        <script type=\"text/javascript\">\n",
       "        window.PlotlyConfig = {MathJaxConfig: 'local'};\n",
       "        if (window.MathJax && window.MathJax.Hub && window.MathJax.Hub.Config) {window.MathJax.Hub.Config({SVG: {font: \"STIX-Web\"}});}\n",
       "        if (typeof require !== 'undefined') {\n",
       "        require.undef(\"plotly\");\n",
       "        requirejs.config({\n",
       "            paths: {\n",
       "                'plotly': ['https://cdn.plot.ly/plotly-2.12.1.min']\n",
       "            }\n",
       "        });\n",
       "        require(['plotly'], function(Plotly) {\n",
       "            window._Plotly = Plotly;\n",
       "        });\n",
       "        }\n",
       "        </script>\n",
       "        "
      ]
     },
     "metadata": {},
     "output_type": "display_data"
    }
   ],
   "source": [
    "import numpy as np #it consists of multidirectional array objects\n",
    "import pandas as pd #used for data cleaning and pre-processing\n",
    "import matplotlib.pyplot as plt #used for plotting figures,graphs etc\n",
    "import seaborn as sns #consist of various functions like Barplot(),Count Plot(),Heat Map etc.\n",
    "import plotly.offline as py\n",
    "py.init_notebook_mode(connected=True)\n",
    "import plotly.graph_objs as go\n",
    "import plotly.tools as tls\n",
    "from sklearn.metrics import accuracy_score\n",
    "\n",
    "%matplotlib inline"
   ]
  },
  {
   "cell_type": "markdown",
   "metadata": {},
   "source": [
    "## Data Preparation and Cleaning\n",
    "In this section we will first load the downloaded dataset in data frame using pandas. Then we will read these datasets using read_csv function. We will explore our data through various columns and rows and find some missing or null values in our data and will clean or replace the irrelevant data wherever necessary."
   ]
  },
  {
   "cell_type": "code",
   "execution_count": 6,
   "metadata": {},
   "outputs": [],
   "source": [
    "data_dir='./climate-change-earth-surface-temperature-data'"
   ]
  },
  {
   "cell_type": "code",
   "execution_count": 7,
   "metadata": {},
   "outputs": [
    {
     "data": {
      "text/plain": [
       "['GlobalLandTemperaturesByCountry.csv',\n",
       " 'GlobalLandTemperaturesByState.csv',\n",
       " 'GlobalTemperatures.csv',\n",
       " 'GlobalLandTemperaturesByMajorCity.csv',\n",
       " 'GlobalLandTemperaturesByCity.csv']"
      ]
     },
     "execution_count": 7,
     "metadata": {},
     "output_type": "execute_result"
    }
   ],
   "source": [
    "import os\n",
    "os.listdir(data_dir)"
   ]
  },
  {
   "cell_type": "code",
   "execution_count": 8,
   "metadata": {},
   "outputs": [],
   "source": [
    "dataset_temp=pd.read_csv('./climate-change-earth-surface-temperature-data/GlobalTemperatures.csv')"
   ]
  },
  {
   "cell_type": "markdown",
   "metadata": {},
   "source": [
    "### Exploring the data"
   ]
  },
  {
   "cell_type": "code",
   "execution_count": 9,
   "metadata": {},
   "outputs": [
    {
     "data": {
      "text/html": [
       "<div>\n",
       "<style scoped>\n",
       "    .dataframe tbody tr th:only-of-type {\n",
       "        vertical-align: middle;\n",
       "    }\n",
       "\n",
       "    .dataframe tbody tr th {\n",
       "        vertical-align: top;\n",
       "    }\n",
       "\n",
       "    .dataframe thead th {\n",
       "        text-align: right;\n",
       "    }\n",
       "</style>\n",
       "<table border=\"1\" class=\"dataframe\">\n",
       "  <thead>\n",
       "    <tr style=\"text-align: right;\">\n",
       "      <th></th>\n",
       "      <th>dt</th>\n",
       "      <th>LandAverageTemperature</th>\n",
       "      <th>LandAverageTemperatureUncertainty</th>\n",
       "      <th>LandMaxTemperature</th>\n",
       "      <th>LandMaxTemperatureUncertainty</th>\n",
       "      <th>LandMinTemperature</th>\n",
       "      <th>LandMinTemperatureUncertainty</th>\n",
       "      <th>LandAndOceanAverageTemperature</th>\n",
       "      <th>LandAndOceanAverageTemperatureUncertainty</th>\n",
       "    </tr>\n",
       "  </thead>\n",
       "  <tbody>\n",
       "    <tr>\n",
       "      <th>0</th>\n",
       "      <td>1750-01-01</td>\n",
       "      <td>3.034</td>\n",
       "      <td>3.574</td>\n",
       "      <td>NaN</td>\n",
       "      <td>NaN</td>\n",
       "      <td>NaN</td>\n",
       "      <td>NaN</td>\n",
       "      <td>NaN</td>\n",
       "      <td>NaN</td>\n",
       "    </tr>\n",
       "    <tr>\n",
       "      <th>1</th>\n",
       "      <td>1750-02-01</td>\n",
       "      <td>3.083</td>\n",
       "      <td>3.702</td>\n",
       "      <td>NaN</td>\n",
       "      <td>NaN</td>\n",
       "      <td>NaN</td>\n",
       "      <td>NaN</td>\n",
       "      <td>NaN</td>\n",
       "      <td>NaN</td>\n",
       "    </tr>\n",
       "    <tr>\n",
       "      <th>2</th>\n",
       "      <td>1750-03-01</td>\n",
       "      <td>5.626</td>\n",
       "      <td>3.076</td>\n",
       "      <td>NaN</td>\n",
       "      <td>NaN</td>\n",
       "      <td>NaN</td>\n",
       "      <td>NaN</td>\n",
       "      <td>NaN</td>\n",
       "      <td>NaN</td>\n",
       "    </tr>\n",
       "    <tr>\n",
       "      <th>3</th>\n",
       "      <td>1750-04-01</td>\n",
       "      <td>8.490</td>\n",
       "      <td>2.451</td>\n",
       "      <td>NaN</td>\n",
       "      <td>NaN</td>\n",
       "      <td>NaN</td>\n",
       "      <td>NaN</td>\n",
       "      <td>NaN</td>\n",
       "      <td>NaN</td>\n",
       "    </tr>\n",
       "    <tr>\n",
       "      <th>4</th>\n",
       "      <td>1750-05-01</td>\n",
       "      <td>11.573</td>\n",
       "      <td>2.072</td>\n",
       "      <td>NaN</td>\n",
       "      <td>NaN</td>\n",
       "      <td>NaN</td>\n",
       "      <td>NaN</td>\n",
       "      <td>NaN</td>\n",
       "      <td>NaN</td>\n",
       "    </tr>\n",
       "    <tr>\n",
       "      <th>...</th>\n",
       "      <td>...</td>\n",
       "      <td>...</td>\n",
       "      <td>...</td>\n",
       "      <td>...</td>\n",
       "      <td>...</td>\n",
       "      <td>...</td>\n",
       "      <td>...</td>\n",
       "      <td>...</td>\n",
       "      <td>...</td>\n",
       "    </tr>\n",
       "    <tr>\n",
       "      <th>3187</th>\n",
       "      <td>2015-08-01</td>\n",
       "      <td>14.755</td>\n",
       "      <td>0.072</td>\n",
       "      <td>20.699</td>\n",
       "      <td>0.110</td>\n",
       "      <td>9.005</td>\n",
       "      <td>0.170</td>\n",
       "      <td>17.589</td>\n",
       "      <td>0.057</td>\n",
       "    </tr>\n",
       "    <tr>\n",
       "      <th>3188</th>\n",
       "      <td>2015-09-01</td>\n",
       "      <td>12.999</td>\n",
       "      <td>0.079</td>\n",
       "      <td>18.845</td>\n",
       "      <td>0.088</td>\n",
       "      <td>7.199</td>\n",
       "      <td>0.229</td>\n",
       "      <td>17.049</td>\n",
       "      <td>0.058</td>\n",
       "    </tr>\n",
       "    <tr>\n",
       "      <th>3189</th>\n",
       "      <td>2015-10-01</td>\n",
       "      <td>10.801</td>\n",
       "      <td>0.102</td>\n",
       "      <td>16.450</td>\n",
       "      <td>0.059</td>\n",
       "      <td>5.232</td>\n",
       "      <td>0.115</td>\n",
       "      <td>16.290</td>\n",
       "      <td>0.062</td>\n",
       "    </tr>\n",
       "    <tr>\n",
       "      <th>3190</th>\n",
       "      <td>2015-11-01</td>\n",
       "      <td>7.433</td>\n",
       "      <td>0.119</td>\n",
       "      <td>12.892</td>\n",
       "      <td>0.093</td>\n",
       "      <td>2.157</td>\n",
       "      <td>0.106</td>\n",
       "      <td>15.252</td>\n",
       "      <td>0.063</td>\n",
       "    </tr>\n",
       "    <tr>\n",
       "      <th>3191</th>\n",
       "      <td>2015-12-01</td>\n",
       "      <td>5.518</td>\n",
       "      <td>0.100</td>\n",
       "      <td>10.725</td>\n",
       "      <td>0.154</td>\n",
       "      <td>0.287</td>\n",
       "      <td>0.099</td>\n",
       "      <td>14.774</td>\n",
       "      <td>0.062</td>\n",
       "    </tr>\n",
       "  </tbody>\n",
       "</table>\n",
       "<p>3192 rows × 9 columns</p>\n",
       "</div>"
      ],
      "text/plain": [
       "              dt  LandAverageTemperature  LandAverageTemperatureUncertainty  \\\n",
       "0     1750-01-01                   3.034                              3.574   \n",
       "1     1750-02-01                   3.083                              3.702   \n",
       "2     1750-03-01                   5.626                              3.076   \n",
       "3     1750-04-01                   8.490                              2.451   \n",
       "4     1750-05-01                  11.573                              2.072   \n",
       "...          ...                     ...                                ...   \n",
       "3187  2015-08-01                  14.755                              0.072   \n",
       "3188  2015-09-01                  12.999                              0.079   \n",
       "3189  2015-10-01                  10.801                              0.102   \n",
       "3190  2015-11-01                   7.433                              0.119   \n",
       "3191  2015-12-01                   5.518                              0.100   \n",
       "\n",
       "      LandMaxTemperature  LandMaxTemperatureUncertainty  LandMinTemperature  \\\n",
       "0                    NaN                            NaN                 NaN   \n",
       "1                    NaN                            NaN                 NaN   \n",
       "2                    NaN                            NaN                 NaN   \n",
       "3                    NaN                            NaN                 NaN   \n",
       "4                    NaN                            NaN                 NaN   \n",
       "...                  ...                            ...                 ...   \n",
       "3187              20.699                          0.110               9.005   \n",
       "3188              18.845                          0.088               7.199   \n",
       "3189              16.450                          0.059               5.232   \n",
       "3190              12.892                          0.093               2.157   \n",
       "3191              10.725                          0.154               0.287   \n",
       "\n",
       "      LandMinTemperatureUncertainty  LandAndOceanAverageTemperature  \\\n",
       "0                               NaN                             NaN   \n",
       "1                               NaN                             NaN   \n",
       "2                               NaN                             NaN   \n",
       "3                               NaN                             NaN   \n",
       "4                               NaN                             NaN   \n",
       "...                             ...                             ...   \n",
       "3187                          0.170                          17.589   \n",
       "3188                          0.229                          17.049   \n",
       "3189                          0.115                          16.290   \n",
       "3190                          0.106                          15.252   \n",
       "3191                          0.099                          14.774   \n",
       "\n",
       "      LandAndOceanAverageTemperatureUncertainty  \n",
       "0                                           NaN  \n",
       "1                                           NaN  \n",
       "2                                           NaN  \n",
       "3                                           NaN  \n",
       "4                                           NaN  \n",
       "...                                         ...  \n",
       "3187                                      0.057  \n",
       "3188                                      0.058  \n",
       "3189                                      0.062  \n",
       "3190                                      0.063  \n",
       "3191                                      0.062  \n",
       "\n",
       "[3192 rows x 9 columns]"
      ]
     },
     "execution_count": 9,
     "metadata": {},
     "output_type": "execute_result"
    }
   ],
   "source": [
    "dataset_temp"
   ]
  },
  {
   "cell_type": "code",
   "execution_count": 10,
   "metadata": {},
   "outputs": [
    {
     "data": {
      "text/html": [
       "<div>\n",
       "<style scoped>\n",
       "    .dataframe tbody tr th:only-of-type {\n",
       "        vertical-align: middle;\n",
       "    }\n",
       "\n",
       "    .dataframe tbody tr th {\n",
       "        vertical-align: top;\n",
       "    }\n",
       "\n",
       "    .dataframe thead th {\n",
       "        text-align: right;\n",
       "    }\n",
       "</style>\n",
       "<table border=\"1\" class=\"dataframe\">\n",
       "  <thead>\n",
       "    <tr style=\"text-align: right;\">\n",
       "      <th></th>\n",
       "      <th>dt</th>\n",
       "      <th>LandAverageTemperature</th>\n",
       "      <th>LandAverageTemperatureUncertainty</th>\n",
       "      <th>LandMaxTemperature</th>\n",
       "      <th>LandMaxTemperatureUncertainty</th>\n",
       "      <th>LandMinTemperature</th>\n",
       "      <th>LandMinTemperatureUncertainty</th>\n",
       "      <th>LandAndOceanAverageTemperature</th>\n",
       "      <th>LandAndOceanAverageTemperatureUncertainty</th>\n",
       "    </tr>\n",
       "  </thead>\n",
       "  <tbody>\n",
       "    <tr>\n",
       "      <th>0</th>\n",
       "      <td>1750-01-01</td>\n",
       "      <td>3.034</td>\n",
       "      <td>3.574</td>\n",
       "      <td>NaN</td>\n",
       "      <td>NaN</td>\n",
       "      <td>NaN</td>\n",
       "      <td>NaN</td>\n",
       "      <td>NaN</td>\n",
       "      <td>NaN</td>\n",
       "    </tr>\n",
       "    <tr>\n",
       "      <th>1</th>\n",
       "      <td>1750-02-01</td>\n",
       "      <td>3.083</td>\n",
       "      <td>3.702</td>\n",
       "      <td>NaN</td>\n",
       "      <td>NaN</td>\n",
       "      <td>NaN</td>\n",
       "      <td>NaN</td>\n",
       "      <td>NaN</td>\n",
       "      <td>NaN</td>\n",
       "    </tr>\n",
       "    <tr>\n",
       "      <th>2</th>\n",
       "      <td>1750-03-01</td>\n",
       "      <td>5.626</td>\n",
       "      <td>3.076</td>\n",
       "      <td>NaN</td>\n",
       "      <td>NaN</td>\n",
       "      <td>NaN</td>\n",
       "      <td>NaN</td>\n",
       "      <td>NaN</td>\n",
       "      <td>NaN</td>\n",
       "    </tr>\n",
       "    <tr>\n",
       "      <th>3</th>\n",
       "      <td>1750-04-01</td>\n",
       "      <td>8.490</td>\n",
       "      <td>2.451</td>\n",
       "      <td>NaN</td>\n",
       "      <td>NaN</td>\n",
       "      <td>NaN</td>\n",
       "      <td>NaN</td>\n",
       "      <td>NaN</td>\n",
       "      <td>NaN</td>\n",
       "    </tr>\n",
       "    <tr>\n",
       "      <th>4</th>\n",
       "      <td>1750-05-01</td>\n",
       "      <td>11.573</td>\n",
       "      <td>2.072</td>\n",
       "      <td>NaN</td>\n",
       "      <td>NaN</td>\n",
       "      <td>NaN</td>\n",
       "      <td>NaN</td>\n",
       "      <td>NaN</td>\n",
       "      <td>NaN</td>\n",
       "    </tr>\n",
       "  </tbody>\n",
       "</table>\n",
       "</div>"
      ],
      "text/plain": [
       "           dt  LandAverageTemperature  LandAverageTemperatureUncertainty  \\\n",
       "0  1750-01-01                   3.034                              3.574   \n",
       "1  1750-02-01                   3.083                              3.702   \n",
       "2  1750-03-01                   5.626                              3.076   \n",
       "3  1750-04-01                   8.490                              2.451   \n",
       "4  1750-05-01                  11.573                              2.072   \n",
       "\n",
       "   LandMaxTemperature  LandMaxTemperatureUncertainty  LandMinTemperature  \\\n",
       "0                 NaN                            NaN                 NaN   \n",
       "1                 NaN                            NaN                 NaN   \n",
       "2                 NaN                            NaN                 NaN   \n",
       "3                 NaN                            NaN                 NaN   \n",
       "4                 NaN                            NaN                 NaN   \n",
       "\n",
       "   LandMinTemperatureUncertainty  LandAndOceanAverageTemperature  \\\n",
       "0                            NaN                             NaN   \n",
       "1                            NaN                             NaN   \n",
       "2                            NaN                             NaN   \n",
       "3                            NaN                             NaN   \n",
       "4                            NaN                             NaN   \n",
       "\n",
       "   LandAndOceanAverageTemperatureUncertainty  \n",
       "0                                        NaN  \n",
       "1                                        NaN  \n",
       "2                                        NaN  \n",
       "3                                        NaN  \n",
       "4                                        NaN  "
      ]
     },
     "execution_count": 10,
     "metadata": {},
     "output_type": "execute_result"
    }
   ],
   "source": [
    "dataset_temp.head()"
   ]
  },
  {
   "cell_type": "code",
   "execution_count": 11,
   "metadata": {},
   "outputs": [
    {
     "data": {
      "text/plain": [
       "(3192, 9)"
      ]
     },
     "execution_count": 11,
     "metadata": {},
     "output_type": "execute_result"
    }
   ],
   "source": [
    "dataset_temp.shape"
   ]
  },
  {
   "cell_type": "code",
   "execution_count": 12,
   "metadata": {},
   "outputs": [
    {
     "data": {
      "text/plain": [
       "Index(['dt', 'LandAverageTemperature', 'LandAverageTemperatureUncertainty',\n",
       "       'LandMaxTemperature', 'LandMaxTemperatureUncertainty',\n",
       "       'LandMinTemperature', 'LandMinTemperatureUncertainty',\n",
       "       'LandAndOceanAverageTemperature',\n",
       "       'LandAndOceanAverageTemperatureUncertainty'],\n",
       "      dtype='object')"
      ]
     },
     "execution_count": 12,
     "metadata": {},
     "output_type": "execute_result"
    }
   ],
   "source": [
    "dataset_temp.columns"
   ]
  },
  {
   "cell_type": "code",
   "execution_count": 13,
   "metadata": {},
   "outputs": [
    {
     "data": {
      "text/html": [
       "<div>\n",
       "<style scoped>\n",
       "    .dataframe tbody tr th:only-of-type {\n",
       "        vertical-align: middle;\n",
       "    }\n",
       "\n",
       "    .dataframe tbody tr th {\n",
       "        vertical-align: top;\n",
       "    }\n",
       "\n",
       "    .dataframe thead th {\n",
       "        text-align: right;\n",
       "    }\n",
       "</style>\n",
       "<table border=\"1\" class=\"dataframe\">\n",
       "  <thead>\n",
       "    <tr style=\"text-align: right;\">\n",
       "      <th></th>\n",
       "      <th>LandAverageTemperature</th>\n",
       "      <th>LandAverageTemperatureUncertainty</th>\n",
       "      <th>LandMaxTemperature</th>\n",
       "      <th>LandMaxTemperatureUncertainty</th>\n",
       "      <th>LandMinTemperature</th>\n",
       "      <th>LandMinTemperatureUncertainty</th>\n",
       "      <th>LandAndOceanAverageTemperature</th>\n",
       "      <th>LandAndOceanAverageTemperatureUncertainty</th>\n",
       "    </tr>\n",
       "  </thead>\n",
       "  <tbody>\n",
       "    <tr>\n",
       "      <th>count</th>\n",
       "      <td>3180.000000</td>\n",
       "      <td>3180.000000</td>\n",
       "      <td>1992.000000</td>\n",
       "      <td>1992.000000</td>\n",
       "      <td>1992.000000</td>\n",
       "      <td>1992.000000</td>\n",
       "      <td>1992.000000</td>\n",
       "      <td>1992.000000</td>\n",
       "    </tr>\n",
       "    <tr>\n",
       "      <th>mean</th>\n",
       "      <td>8.374731</td>\n",
       "      <td>0.938468</td>\n",
       "      <td>14.350601</td>\n",
       "      <td>0.479782</td>\n",
       "      <td>2.743595</td>\n",
       "      <td>0.431849</td>\n",
       "      <td>15.212566</td>\n",
       "      <td>0.128532</td>\n",
       "    </tr>\n",
       "    <tr>\n",
       "      <th>std</th>\n",
       "      <td>4.381310</td>\n",
       "      <td>1.096440</td>\n",
       "      <td>4.309579</td>\n",
       "      <td>0.583203</td>\n",
       "      <td>4.155835</td>\n",
       "      <td>0.445838</td>\n",
       "      <td>1.274093</td>\n",
       "      <td>0.073587</td>\n",
       "    </tr>\n",
       "    <tr>\n",
       "      <th>min</th>\n",
       "      <td>-2.080000</td>\n",
       "      <td>0.034000</td>\n",
       "      <td>5.900000</td>\n",
       "      <td>0.044000</td>\n",
       "      <td>-5.407000</td>\n",
       "      <td>0.045000</td>\n",
       "      <td>12.475000</td>\n",
       "      <td>0.042000</td>\n",
       "    </tr>\n",
       "    <tr>\n",
       "      <th>25%</th>\n",
       "      <td>4.312000</td>\n",
       "      <td>0.186750</td>\n",
       "      <td>10.212000</td>\n",
       "      <td>0.142000</td>\n",
       "      <td>-1.334500</td>\n",
       "      <td>0.155000</td>\n",
       "      <td>14.047000</td>\n",
       "      <td>0.063000</td>\n",
       "    </tr>\n",
       "    <tr>\n",
       "      <th>50%</th>\n",
       "      <td>8.610500</td>\n",
       "      <td>0.392000</td>\n",
       "      <td>14.760000</td>\n",
       "      <td>0.252000</td>\n",
       "      <td>2.949500</td>\n",
       "      <td>0.279000</td>\n",
       "      <td>15.251000</td>\n",
       "      <td>0.122000</td>\n",
       "    </tr>\n",
       "    <tr>\n",
       "      <th>75%</th>\n",
       "      <td>12.548250</td>\n",
       "      <td>1.419250</td>\n",
       "      <td>18.451500</td>\n",
       "      <td>0.539000</td>\n",
       "      <td>6.778750</td>\n",
       "      <td>0.458250</td>\n",
       "      <td>16.396250</td>\n",
       "      <td>0.151000</td>\n",
       "    </tr>\n",
       "    <tr>\n",
       "      <th>max</th>\n",
       "      <td>19.021000</td>\n",
       "      <td>7.880000</td>\n",
       "      <td>21.320000</td>\n",
       "      <td>4.373000</td>\n",
       "      <td>9.715000</td>\n",
       "      <td>3.498000</td>\n",
       "      <td>17.611000</td>\n",
       "      <td>0.457000</td>\n",
       "    </tr>\n",
       "  </tbody>\n",
       "</table>\n",
       "</div>"
      ],
      "text/plain": [
       "       LandAverageTemperature  LandAverageTemperatureUncertainty  \\\n",
       "count             3180.000000                        3180.000000   \n",
       "mean                 8.374731                           0.938468   \n",
       "std                  4.381310                           1.096440   \n",
       "min                 -2.080000                           0.034000   \n",
       "25%                  4.312000                           0.186750   \n",
       "50%                  8.610500                           0.392000   \n",
       "75%                 12.548250                           1.419250   \n",
       "max                 19.021000                           7.880000   \n",
       "\n",
       "       LandMaxTemperature  LandMaxTemperatureUncertainty  LandMinTemperature  \\\n",
       "count         1992.000000                    1992.000000         1992.000000   \n",
       "mean            14.350601                       0.479782            2.743595   \n",
       "std              4.309579                       0.583203            4.155835   \n",
       "min              5.900000                       0.044000           -5.407000   \n",
       "25%             10.212000                       0.142000           -1.334500   \n",
       "50%             14.760000                       0.252000            2.949500   \n",
       "75%             18.451500                       0.539000            6.778750   \n",
       "max             21.320000                       4.373000            9.715000   \n",
       "\n",
       "       LandMinTemperatureUncertainty  LandAndOceanAverageTemperature  \\\n",
       "count                    1992.000000                     1992.000000   \n",
       "mean                        0.431849                       15.212566   \n",
       "std                         0.445838                        1.274093   \n",
       "min                         0.045000                       12.475000   \n",
       "25%                         0.155000                       14.047000   \n",
       "50%                         0.279000                       15.251000   \n",
       "75%                         0.458250                       16.396250   \n",
       "max                         3.498000                       17.611000   \n",
       "\n",
       "       LandAndOceanAverageTemperatureUncertainty  \n",
       "count                                1992.000000  \n",
       "mean                                    0.128532  \n",
       "std                                     0.073587  \n",
       "min                                     0.042000  \n",
       "25%                                     0.063000  \n",
       "50%                                     0.122000  \n",
       "75%                                     0.151000  \n",
       "max                                     0.457000  "
      ]
     },
     "execution_count": 13,
     "metadata": {},
     "output_type": "execute_result"
    }
   ],
   "source": [
    "dataset_temp.describe()"
   ]
  },
  {
   "cell_type": "code",
   "execution_count": 14,
   "metadata": {},
   "outputs": [
    {
     "name": "stdout",
     "output_type": "stream",
     "text": [
      "<class 'pandas.core.frame.DataFrame'>\n",
      "RangeIndex: 3192 entries, 0 to 3191\n",
      "Data columns (total 9 columns):\n",
      " #   Column                                     Non-Null Count  Dtype  \n",
      "---  ------                                     --------------  -----  \n",
      " 0   dt                                         3192 non-null   object \n",
      " 1   LandAverageTemperature                     3180 non-null   float64\n",
      " 2   LandAverageTemperatureUncertainty          3180 non-null   float64\n",
      " 3   LandMaxTemperature                         1992 non-null   float64\n",
      " 4   LandMaxTemperatureUncertainty              1992 non-null   float64\n",
      " 5   LandMinTemperature                         1992 non-null   float64\n",
      " 6   LandMinTemperatureUncertainty              1992 non-null   float64\n",
      " 7   LandAndOceanAverageTemperature             1992 non-null   float64\n",
      " 8   LandAndOceanAverageTemperatureUncertainty  1992 non-null   float64\n",
      "dtypes: float64(8), object(1)\n",
      "memory usage: 224.6+ KB\n"
     ]
    }
   ],
   "source": [
    "dataset_temp.info()"
   ]
  },
  {
   "cell_type": "code",
   "execution_count": 15,
   "metadata": {},
   "outputs": [
    {
     "data": {
      "text/plain": [
       "dt                                              0\n",
       "LandAverageTemperature                         12\n",
       "LandAverageTemperatureUncertainty              12\n",
       "LandMaxTemperature                           1200\n",
       "LandMaxTemperatureUncertainty                1200\n",
       "LandMinTemperature                           1200\n",
       "LandMinTemperatureUncertainty                1200\n",
       "LandAndOceanAverageTemperature               1200\n",
       "LandAndOceanAverageTemperatureUncertainty    1200\n",
       "dtype: int64"
      ]
     },
     "execution_count": 15,
     "metadata": {},
     "output_type": "execute_result"
    }
   ],
   "source": [
    "# method of checking null values\n",
    "dataset_temp.isnull().sum()"
   ]
  },
  {
   "cell_type": "code",
   "execution_count": 16,
   "metadata": {},
   "outputs": [
    {
     "data": {
      "text/html": [
       "<div>\n",
       "<style scoped>\n",
       "    .dataframe tbody tr th:only-of-type {\n",
       "        vertical-align: middle;\n",
       "    }\n",
       "\n",
       "    .dataframe tbody tr th {\n",
       "        vertical-align: top;\n",
       "    }\n",
       "\n",
       "    .dataframe thead th {\n",
       "        text-align: right;\n",
       "    }\n",
       "</style>\n",
       "<table border=\"1\" class=\"dataframe\">\n",
       "  <thead>\n",
       "    <tr style=\"text-align: right;\">\n",
       "      <th></th>\n",
       "      <th>dt</th>\n",
       "      <th>LandAverageTemperature</th>\n",
       "      <th>LandAverageTemperatureUncertainty</th>\n",
       "      <th>LandMaxTemperature</th>\n",
       "      <th>LandMaxTemperatureUncertainty</th>\n",
       "      <th>LandMinTemperature</th>\n",
       "      <th>LandMinTemperatureUncertainty</th>\n",
       "      <th>LandAndOceanAverageTemperature</th>\n",
       "      <th>LandAndOceanAverageTemperatureUncertainty</th>\n",
       "    </tr>\n",
       "  </thead>\n",
       "  <tbody>\n",
       "    <tr>\n",
       "      <th>138</th>\n",
       "      <td>1761-07-01</td>\n",
       "      <td>19.021</td>\n",
       "      <td>2.696</td>\n",
       "      <td>NaN</td>\n",
       "      <td>NaN</td>\n",
       "      <td>NaN</td>\n",
       "      <td>NaN</td>\n",
       "      <td>NaN</td>\n",
       "      <td>NaN</td>\n",
       "    </tr>\n",
       "    <tr>\n",
       "      <th>91</th>\n",
       "      <td>1757-08-01</td>\n",
       "      <td>17.910</td>\n",
       "      <td>4.035</td>\n",
       "      <td>NaN</td>\n",
       "      <td>NaN</td>\n",
       "      <td>NaN</td>\n",
       "      <td>NaN</td>\n",
       "      <td>NaN</td>\n",
       "      <td>NaN</td>\n",
       "    </tr>\n",
       "    <tr>\n",
       "      <th>90</th>\n",
       "      <td>1757-07-01</td>\n",
       "      <td>17.610</td>\n",
       "      <td>4.322</td>\n",
       "      <td>NaN</td>\n",
       "      <td>NaN</td>\n",
       "      <td>NaN</td>\n",
       "      <td>NaN</td>\n",
       "      <td>NaN</td>\n",
       "      <td>NaN</td>\n",
       "    </tr>\n",
       "    <tr>\n",
       "      <th>89</th>\n",
       "      <td>1757-06-01</td>\n",
       "      <td>17.115</td>\n",
       "      <td>4.590</td>\n",
       "      <td>NaN</td>\n",
       "      <td>NaN</td>\n",
       "      <td>NaN</td>\n",
       "      <td>NaN</td>\n",
       "      <td>NaN</td>\n",
       "      <td>NaN</td>\n",
       "    </tr>\n",
       "    <tr>\n",
       "      <th>137</th>\n",
       "      <td>1761-06-01</td>\n",
       "      <td>16.821</td>\n",
       "      <td>3.166</td>\n",
       "      <td>NaN</td>\n",
       "      <td>NaN</td>\n",
       "      <td>NaN</td>\n",
       "      <td>NaN</td>\n",
       "      <td>NaN</td>\n",
       "      <td>NaN</td>\n",
       "    </tr>\n",
       "    <tr>\n",
       "      <th>...</th>\n",
       "      <td>...</td>\n",
       "      <td>...</td>\n",
       "      <td>...</td>\n",
       "      <td>...</td>\n",
       "      <td>...</td>\n",
       "      <td>...</td>\n",
       "      <td>...</td>\n",
       "      <td>...</td>\n",
       "      <td>...</td>\n",
       "    </tr>\n",
       "    <tr>\n",
       "      <th>28</th>\n",
       "      <td>1752-05-01</td>\n",
       "      <td>NaN</td>\n",
       "      <td>NaN</td>\n",
       "      <td>NaN</td>\n",
       "      <td>NaN</td>\n",
       "      <td>NaN</td>\n",
       "      <td>NaN</td>\n",
       "      <td>NaN</td>\n",
       "      <td>NaN</td>\n",
       "    </tr>\n",
       "    <tr>\n",
       "      <th>29</th>\n",
       "      <td>1752-06-01</td>\n",
       "      <td>NaN</td>\n",
       "      <td>NaN</td>\n",
       "      <td>NaN</td>\n",
       "      <td>NaN</td>\n",
       "      <td>NaN</td>\n",
       "      <td>NaN</td>\n",
       "      <td>NaN</td>\n",
       "      <td>NaN</td>\n",
       "    </tr>\n",
       "    <tr>\n",
       "      <th>30</th>\n",
       "      <td>1752-07-01</td>\n",
       "      <td>NaN</td>\n",
       "      <td>NaN</td>\n",
       "      <td>NaN</td>\n",
       "      <td>NaN</td>\n",
       "      <td>NaN</td>\n",
       "      <td>NaN</td>\n",
       "      <td>NaN</td>\n",
       "      <td>NaN</td>\n",
       "    </tr>\n",
       "    <tr>\n",
       "      <th>31</th>\n",
       "      <td>1752-08-01</td>\n",
       "      <td>NaN</td>\n",
       "      <td>NaN</td>\n",
       "      <td>NaN</td>\n",
       "      <td>NaN</td>\n",
       "      <td>NaN</td>\n",
       "      <td>NaN</td>\n",
       "      <td>NaN</td>\n",
       "      <td>NaN</td>\n",
       "    </tr>\n",
       "    <tr>\n",
       "      <th>32</th>\n",
       "      <td>1752-09-01</td>\n",
       "      <td>NaN</td>\n",
       "      <td>NaN</td>\n",
       "      <td>NaN</td>\n",
       "      <td>NaN</td>\n",
       "      <td>NaN</td>\n",
       "      <td>NaN</td>\n",
       "      <td>NaN</td>\n",
       "      <td>NaN</td>\n",
       "    </tr>\n",
       "  </tbody>\n",
       "</table>\n",
       "<p>3192 rows × 9 columns</p>\n",
       "</div>"
      ],
      "text/plain": [
       "             dt  LandAverageTemperature  LandAverageTemperatureUncertainty  \\\n",
       "138  1761-07-01                  19.021                              2.696   \n",
       "91   1757-08-01                  17.910                              4.035   \n",
       "90   1757-07-01                  17.610                              4.322   \n",
       "89   1757-06-01                  17.115                              4.590   \n",
       "137  1761-06-01                  16.821                              3.166   \n",
       "..          ...                     ...                                ...   \n",
       "28   1752-05-01                     NaN                                NaN   \n",
       "29   1752-06-01                     NaN                                NaN   \n",
       "30   1752-07-01                     NaN                                NaN   \n",
       "31   1752-08-01                     NaN                                NaN   \n",
       "32   1752-09-01                     NaN                                NaN   \n",
       "\n",
       "     LandMaxTemperature  LandMaxTemperatureUncertainty  LandMinTemperature  \\\n",
       "138                 NaN                            NaN                 NaN   \n",
       "91                  NaN                            NaN                 NaN   \n",
       "90                  NaN                            NaN                 NaN   \n",
       "89                  NaN                            NaN                 NaN   \n",
       "137                 NaN                            NaN                 NaN   \n",
       "..                  ...                            ...                 ...   \n",
       "28                  NaN                            NaN                 NaN   \n",
       "29                  NaN                            NaN                 NaN   \n",
       "30                  NaN                            NaN                 NaN   \n",
       "31                  NaN                            NaN                 NaN   \n",
       "32                  NaN                            NaN                 NaN   \n",
       "\n",
       "     LandMinTemperatureUncertainty  LandAndOceanAverageTemperature  \\\n",
       "138                            NaN                             NaN   \n",
       "91                             NaN                             NaN   \n",
       "90                             NaN                             NaN   \n",
       "89                             NaN                             NaN   \n",
       "137                            NaN                             NaN   \n",
       "..                             ...                             ...   \n",
       "28                             NaN                             NaN   \n",
       "29                             NaN                             NaN   \n",
       "30                             NaN                             NaN   \n",
       "31                             NaN                             NaN   \n",
       "32                             NaN                             NaN   \n",
       "\n",
       "     LandAndOceanAverageTemperatureUncertainty  \n",
       "138                                        NaN  \n",
       "91                                         NaN  \n",
       "90                                         NaN  \n",
       "89                                         NaN  \n",
       "137                                        NaN  \n",
       "..                                         ...  \n",
       "28                                         NaN  \n",
       "29                                         NaN  \n",
       "30                                         NaN  \n",
       "31                                         NaN  \n",
       "32                                         NaN  \n",
       "\n",
       "[3192 rows x 9 columns]"
      ]
     },
     "execution_count": 16,
     "metadata": {},
     "output_type": "execute_result"
    }
   ],
   "source": [
    "sort_by_temp_desc = dataset_temp.sort_values('LandAverageTemperature', ascending=False)\n",
    "sort_by_temp_desc"
   ]
  },
  {
   "cell_type": "code",
   "execution_count": 17,
   "metadata": {},
   "outputs": [
    {
     "name": "stderr",
     "output_type": "stream",
     "text": [
      "/opt/conda/lib/python3.9/site-packages/pandas/util/_decorators.py:311: SettingWithCopyWarning:\n",
      "\n",
      "\n",
      "A value is trying to be set on a copy of a slice from a DataFrame\n",
      "\n",
      "See the caveats in the documentation: https://pandas.pydata.org/pandas-docs/stable/user_guide/indexing.html#returning-a-view-versus-a-copy\n",
      "\n",
      "/tmp/ipykernel_57/1476481384.py:3: SettingWithCopyWarning:\n",
      "\n",
      "\n",
      "A value is trying to be set on a copy of a slice from a DataFrame.\n",
      "Try using .loc[row_indexer,col_indexer] = value instead\n",
      "\n",
      "See the caveats in the documentation: https://pandas.pydata.org/pandas-docs/stable/user_guide/indexing.html#returning-a-view-versus-a-copy\n",
      "\n",
      "/tmp/ipykernel_57/1476481384.py:4: SettingWithCopyWarning:\n",
      "\n",
      "\n",
      "A value is trying to be set on a copy of a slice from a DataFrame.\n",
      "Try using .loc[row_indexer,col_indexer] = value instead\n",
      "\n",
      "See the caveats in the documentation: https://pandas.pydata.org/pandas-docs/stable/user_guide/indexing.html#returning-a-view-versus-a-copy\n",
      "\n"
     ]
    }
   ],
   "source": [
    "dataset_temp = dataset_temp[['dt', 'LandAndOceanAverageTemperature']]\n",
    "dataset_temp.dropna(inplace=True)\n",
    "dataset_temp['dt'] = pd.to_datetime(dataset_temp.dt).dt.strftime('%d/%m/%Y')\n",
    "dataset_temp['dt'] = dataset_temp['dt'].apply(lambda x:x[6:])\n",
    "dataset_temp = dataset_temp.groupby(['dt'])['LandAndOceanAverageTemperature'].mean().reset_index()"
   ]
  },
  {
   "cell_type": "code",
   "execution_count": 18,
   "metadata": {},
   "outputs": [
    {
     "data": {
      "text/html": [
       "<div>\n",
       "<style scoped>\n",
       "    .dataframe tbody tr th:only-of-type {\n",
       "        vertical-align: middle;\n",
       "    }\n",
       "\n",
       "    .dataframe tbody tr th {\n",
       "        vertical-align: top;\n",
       "    }\n",
       "\n",
       "    .dataframe thead th {\n",
       "        text-align: right;\n",
       "    }\n",
       "</style>\n",
       "<table border=\"1\" class=\"dataframe\">\n",
       "  <thead>\n",
       "    <tr style=\"text-align: right;\">\n",
       "      <th></th>\n",
       "      <th>dt</th>\n",
       "      <th>LandAndOceanAverageTemperature</th>\n",
       "    </tr>\n",
       "  </thead>\n",
       "  <tbody>\n",
       "    <tr>\n",
       "      <th>0</th>\n",
       "      <td>1850</td>\n",
       "      <td>14.867167</td>\n",
       "    </tr>\n",
       "    <tr>\n",
       "      <th>1</th>\n",
       "      <td>1851</td>\n",
       "      <td>14.991833</td>\n",
       "    </tr>\n",
       "    <tr>\n",
       "      <th>2</th>\n",
       "      <td>1852</td>\n",
       "      <td>15.006500</td>\n",
       "    </tr>\n",
       "    <tr>\n",
       "      <th>3</th>\n",
       "      <td>1853</td>\n",
       "      <td>14.955167</td>\n",
       "    </tr>\n",
       "    <tr>\n",
       "      <th>4</th>\n",
       "      <td>1854</td>\n",
       "      <td>14.991000</td>\n",
       "    </tr>\n",
       "    <tr>\n",
       "      <th>...</th>\n",
       "      <td>...</td>\n",
       "      <td>...</td>\n",
       "    </tr>\n",
       "    <tr>\n",
       "      <th>161</th>\n",
       "      <td>2011</td>\n",
       "      <td>15.769500</td>\n",
       "    </tr>\n",
       "    <tr>\n",
       "      <th>162</th>\n",
       "      <td>2012</td>\n",
       "      <td>15.802333</td>\n",
       "    </tr>\n",
       "    <tr>\n",
       "      <th>163</th>\n",
       "      <td>2013</td>\n",
       "      <td>15.854417</td>\n",
       "    </tr>\n",
       "    <tr>\n",
       "      <th>164</th>\n",
       "      <td>2014</td>\n",
       "      <td>15.913000</td>\n",
       "    </tr>\n",
       "    <tr>\n",
       "      <th>165</th>\n",
       "      <td>2015</td>\n",
       "      <td>16.058583</td>\n",
       "    </tr>\n",
       "  </tbody>\n",
       "</table>\n",
       "<p>166 rows × 2 columns</p>\n",
       "</div>"
      ],
      "text/plain": [
       "       dt  LandAndOceanAverageTemperature\n",
       "0    1850                       14.867167\n",
       "1    1851                       14.991833\n",
       "2    1852                       15.006500\n",
       "3    1853                       14.955167\n",
       "4    1854                       14.991000\n",
       "..    ...                             ...\n",
       "161  2011                       15.769500\n",
       "162  2012                       15.802333\n",
       "163  2013                       15.854417\n",
       "164  2014                       15.913000\n",
       "165  2015                       16.058583\n",
       "\n",
       "[166 rows x 2 columns]"
      ]
     },
     "execution_count": 18,
     "metadata": {},
     "output_type": "execute_result"
    }
   ],
   "source": [
    "dataset_temp"
   ]
  },
  {
   "cell_type": "markdown",
   "metadata": {},
   "source": [
    "# Data Visualiztaion"
   ]
  },
  {
   "cell_type": "markdown",
   "metadata": {},
   "source": [
    "**Plotting Relationships in Dataset**\n",
    "\n",
    "There are various ways to dispaly the relationships in dataset.We can use pairplot,joint plots, correlations etc.\n",
    "I am using pairplot to find out relationships in dataset"
   ]
  },
  {
   "cell_type": "code",
   "execution_count": 19,
   "metadata": {},
   "outputs": [
    {
     "data": {
      "text/plain": [
       "<seaborn.axisgrid.PairGrid at 0x7fea81591490>"
      ]
     },
     "execution_count": 19,
     "metadata": {},
     "output_type": "execute_result"
    },
    {
     "data": {
      "image/png": "[encoded data removed]",
      "text/plain": [
       "<Figure size 180x180 with 2 Axes>"
      ]
     },
     "metadata": {
      "needs_background": "light"
     },
     "output_type": "display_data"
    }
   ],
   "source": [
    "sns.pairplot(dataset_temp)"
   ]
  },
  {
   "cell_type": "markdown",
   "metadata": {},
   "source": [
    "# Plotting Correlation\n",
    "correlation is an indication about the changes between two variables"
   ]
  },
  {
   "cell_type": "code",
   "execution_count": 20,
   "metadata": {},
   "outputs": [
    {
     "data": {
      "text/html": [
       "<div>\n",
       "<style scoped>\n",
       "    .dataframe tbody tr th:only-of-type {\n",
       "        vertical-align: middle;\n",
       "    }\n",
       "\n",
       "    .dataframe tbody tr th {\n",
       "        vertical-align: top;\n",
       "    }\n",
       "\n",
       "    .dataframe thead th {\n",
       "        text-align: right;\n",
       "    }\n",
       "</style>\n",
       "<table border=\"1\" class=\"dataframe\">\n",
       "  <thead>\n",
       "    <tr style=\"text-align: right;\">\n",
       "      <th></th>\n",
       "      <th>LandAndOceanAverageTemperature</th>\n",
       "    </tr>\n",
       "  </thead>\n",
       "  <tbody>\n",
       "    <tr>\n",
       "      <th>LandAndOceanAverageTemperature</th>\n",
       "      <td>1.0</td>\n",
       "    </tr>\n",
       "  </tbody>\n",
       "</table>\n",
       "</div>"
      ],
      "text/plain": [
       "                                LandAndOceanAverageTemperature\n",
       "LandAndOceanAverageTemperature                             1.0"
      ]
     },
     "execution_count": 20,
     "metadata": {},
     "output_type": "execute_result"
    }
   ],
   "source": [
    "#finding pairwise correlation in our dataframe\n",
    "dataset_temp.corr()"
   ]
  },
  {
   "cell_type": "code",
   "execution_count": null,
   "metadata": {},
   "outputs": [],
   "source": [
    "matrix=dataset_temp.corr()\n",
    "ax=plt.subplots(figsize=(6,3)),sns.heatmap(matrix,vmax=0.8,square=True,cmap=\"coolwarm\")"
   ]
  },
  {
   "cell_type": "code",
   "execution_count": null,
   "metadata": {},
   "outputs": [],
   "source": [
    "plt.figure(figsize =(16, 6))\n",
    "ax = sns.lineplot(\n",
    "    x = dataset_temp['dt'],\n",
    "    y = dataset_temp['LandAndOceanAverageTemperature'])\n",
    "ax.set_title('Average Global Temperature Movement')\n",
    "ax.set_ylabel('Average Global Temperature')\n",
    "ax.set_xlabel('Date (1750 - 2015)')\n",
    "ax.axes.get_xaxis().set_ticks([])\n",
    "ax"
   ]
  },
  {
   "cell_type": "markdown",
   "metadata": {},
   "source": [
    "### The above visualisation shows a clear upward trend in the average global temperature over the past years"
   ]
  },
  {
   "cell_type": "markdown",
   "metadata": {},
   "source": [
    "Please be mindful that the data in the early years (1750) is likely to be a little less accurate due to the limits of the record keeping at the time"
   ]
  },
  {
   "cell_type": "markdown",
   "metadata": {},
   "source": [
    "### Now I'll use machine learning to predict the future average global temperature"
   ]
  },
  {
   "cell_type": "code",
   "execution_count": null,
   "metadata": {},
   "outputs": [],
   "source": [
    "dataset_temp"
   ]
  },
  {
   "cell_type": "code",
   "execution_count": null,
   "metadata": {},
   "outputs": [],
   "source": [
    "# Preparing the data for machine learning\n",
    "X = dataset_temp.iloc[:, dataset_temp.columns != 'LandAndOceanAverageTemperature'].values\n",
    "y = dataset_temp.iloc[:, dataset_temp.columns == 'LandAndOceanAverageTemperature'].values"
   ]
  },
  {
   "cell_type": "code",
   "execution_count": null,
   "metadata": {},
   "outputs": [],
   "source": [
    "# Splitting the dataset into the Training set and Test set\n",
    "from sklearn.model_selection import train_test_split\n",
    "X_train, X_test, y_train, y_test = train_test_split(X, y, test_size = 0.2, random_state = 0)"
   ]
  },
  {
   "cell_type": "code",
   "execution_count": null,
   "metadata": {},
   "outputs": [],
   "source": [
    "X_train"
   ]
  },
  {
   "cell_type": "code",
   "execution_count": null,
   "metadata": {},
   "outputs": [],
   "source": [
    "# Fitting a linear regression to the training set\n",
    "from sklearn.linear_model import LinearRegression\n",
    "regressor = LinearRegression()\n",
    "regressor.fit(X_train, y_train)"
   ]
  },
  {
   "cell_type": "code",
   "execution_count": null,
   "metadata": {},
   "outputs": [],
   "source": [
    "# Predicting the test set results\n",
    "y_pred = regressor.predict(X_test)"
   ]
  },
  {
   "cell_type": "code",
   "execution_count": null,
   "metadata": {},
   "outputs": [],
   "source": [
    "X_train = X_train.astype('float64')\n",
    "y_train = y_train.astype('float64')\n",
    "X_test = X_test.astype('float64')\n",
    "y_test = y_test.astype('float64')"
   ]
  },
  {
   "cell_type": "code",
   "execution_count": null,
   "metadata": {},
   "outputs": [],
   "source": [
    "# Visualising the training set results\n",
    "plt.scatter(X_train, y_train, color = 'green')\n",
    "plt.plot(X_train, regressor.predict(X_train), color = 'blue')\n",
    "plt.title('Average Global Temperature (Training Set)')\n",
    "plt.xlabel('Year')\n",
    "plt.ylabel('Temperatre (c)')\n",
    "plt.show()"
   ]
  },
  {
   "cell_type": "code",
   "execution_count": null,
   "metadata": {},
   "outputs": [],
   "source": [
    "# Visualising the test set results\n",
    "plt.scatter(X_test, y_test, color = 'red')\n",
    "plt.plot(X_train, regressor.predict(X_train), color = 'blue')\n",
    "plt.title('Average Global Temperature (Test set)')\n",
    "plt.xlabel('Year')\n",
    "plt.ylabel('Temperature(c)')\n",
    "plt.show()"
   ]
  },
  {
   "cell_type": "code",
   "execution_count": null,
   "metadata": {},
   "outputs": [],
   "source": [
    "# Building the predictor\n",
    "X_predict = [2050] # Enter the year that you require the temperature for\n",
    "X_predict = np.array(X_predict).reshape(1, -1)\n",
    "y_predict = regressor.predict(X_predict)\n",
    "\n",
    "# Outputting the predicted temperature of the year above\n",
    "y_predict"
   ]
  },
  {
   "cell_type": "markdown",
   "metadata": {},
   "source": [
    "The average global temperature is likely to increase to 15.84 degrees celcius by 2050. That is an increase of circa 0.2 degrees between now and then and this is taking into account the combination average of sea and land temperatures."
   ]
  },
  {
   "cell_type": "code",
   "execution_count": null,
   "metadata": {},
   "outputs": [],
   "source": [
    "jovian.commit()"
   ]
  },
  {
   "cell_type": "code",
   "execution_count": null,
   "metadata": {},
   "outputs": [],
   "source": []
  }
 ],
 "metadata": {
  "language_info": {
   "codemirror_mode": {
    "name": "ipython",
    "version": 3
   },
   "file_extension": ".py",
   "mimetype": "text/x-python",
   "name": "python",
   "nbconvert_exporter": "python",
   "pygments_lexer": "ipython3",
   "version": "3.9.6"
  }
 },
 "nbformat": 4,
 "nbformat_minor": 1
}
